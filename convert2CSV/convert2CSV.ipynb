{
  "nbformat": 4,
  "nbformat_minor": 0,
  "metadata": {
    "colab": {
      "name": "convert2CSV.ipynb",
      "provenance": []
    },
    "kernelspec": {
      "name": "python3",
      "display_name": "Python 3"
    }
  },
  "cells": [
    {
      "cell_type": "code",
      "metadata": {
        "colab": {
          "base_uri": "https://localhost:8080/"
        },
        "id": "CTN-TfZ-hK_j",
        "outputId": "dccc6819-ddf6-42c7-eef0-e38969c79fd6"
      },
      "source": [
        "!wget http://curtis.ml.cmu.edu/datasets/hotpot/hotpot_train_v1.1.json"
      ],
      "execution_count": 1,
      "outputs": [
        {
          "output_type": "stream",
          "text": [
            "--2021-06-26 18:32:33--  http://curtis.ml.cmu.edu/datasets/hotpot/hotpot_train_v1.1.json\n",
            "Resolving curtis.ml.cmu.edu (curtis.ml.cmu.edu)... 128.2.204.193\n",
            "Connecting to curtis.ml.cmu.edu (curtis.ml.cmu.edu)|128.2.204.193|:80... connected.\n",
            "HTTP request sent, awaiting response... 200 OK\n",
            "Length: 566426227 (540M) [application/json]\n",
            "Saving to: ‘hotpot_train_v1.1.json’\n",
            "\n",
            "hotpot_train_v1.1.j 100%[===================>] 540.19M  2.89MB/s    in 1m 46s  \n",
            "\n",
            "2021-06-26 18:34:19 (5.10 MB/s) - ‘hotpot_train_v1.1.json’ saved [566426227/566426227]\n",
            "\n"
          ],
          "name": "stdout"
        }
      ]
    },
    {
      "cell_type": "code",
      "metadata": {
        "colab": {
          "base_uri": "https://localhost:8080/"
        },
        "id": "j66gkbEdiR7t",
        "outputId": "3c28c38b-e3af-4990-c774-b05c82967bc5"
      },
      "source": [
        "!wget http://curtis.ml.cmu.edu/datasets/hotpot/hotpot_dev_distractor_v1.json"
      ],
      "execution_count": 2,
      "outputs": [
        {
          "output_type": "stream",
          "text": [
            "--2021-06-26 18:34:19--  http://curtis.ml.cmu.edu/datasets/hotpot/hotpot_dev_distractor_v1.json\n",
            "Resolving curtis.ml.cmu.edu (curtis.ml.cmu.edu)... 128.2.204.193\n",
            "Connecting to curtis.ml.cmu.edu (curtis.ml.cmu.edu)|128.2.204.193|:80... connected.\n",
            "HTTP request sent, awaiting response... 200 OK\n",
            "Length: 46320117 (44M) [application/json]\n",
            "Saving to: ‘hotpot_dev_distractor_v1.json’\n",
            "\n",
            "hotpot_dev_distract 100%[===================>]  44.17M  8.34MB/s    in 8.6s    \n",
            "\n",
            "2021-06-26 18:34:29 (5.15 MB/s) - ‘hotpot_dev_distractor_v1.json’ saved [46320117/46320117]\n",
            "\n"
          ],
          "name": "stdout"
        }
      ]
    },
    {
      "cell_type": "code",
      "metadata": {
        "id": "1hkg967Akhhl"
      },
      "source": [
        "import pandas as pd\n"
      ],
      "execution_count": 3,
      "outputs": []
    },
    {
      "cell_type": "code",
      "metadata": {
        "id": "S25bo_lIq31r"
      },
      "source": [
        "new_data = pd.DataFrame(columns=['id','question','label','title','context','answer','type','level'])"
      ],
      "execution_count": 4,
      "outputs": []
    },
    {
      "cell_type": "code",
      "metadata": {
        "colab": {
          "base_uri": "https://localhost:8080/",
          "height": 49
        },
        "id": "40q6I7m8rrBa",
        "outputId": "27e1ad71-481e-4ea1-ad0b-3519133f2639"
      },
      "source": [
        "new_data.head()"
      ],
      "execution_count": 5,
      "outputs": [
        {
          "output_type": "execute_result",
          "data": {
            "text/html": [
              "<div>\n",
              "<style scoped>\n",
              "    .dataframe tbody tr th:only-of-type {\n",
              "        vertical-align: middle;\n",
              "    }\n",
              "\n",
              "    .dataframe tbody tr th {\n",
              "        vertical-align: top;\n",
              "    }\n",
              "\n",
              "    .dataframe thead th {\n",
              "        text-align: right;\n",
              "    }\n",
              "</style>\n",
              "<table border=\"1\" class=\"dataframe\">\n",
              "  <thead>\n",
              "    <tr style=\"text-align: right;\">\n",
              "      <th></th>\n",
              "      <th>id</th>\n",
              "      <th>question</th>\n",
              "      <th>label</th>\n",
              "      <th>title</th>\n",
              "      <th>context</th>\n",
              "      <th>answer</th>\n",
              "      <th>type</th>\n",
              "      <th>level</th>\n",
              "    </tr>\n",
              "  </thead>\n",
              "  <tbody>\n",
              "  </tbody>\n",
              "</table>\n",
              "</div>"
            ],
            "text/plain": [
              "Empty DataFrame\n",
              "Columns: [id, question, label, title, context, answer, type, level]\n",
              "Index: []"
            ]
          },
          "metadata": {
            "tags": []
          },
          "execution_count": 5
        }
      ]
    },
    {
      "cell_type": "code",
      "metadata": {
        "id": "cq8JEFG9iYHe"
      },
      "source": [
        "def convert(input):\n",
        "  df = pd.read_json(input)\n",
        "\n",
        "  print(type(df))\n",
        "  row_list = []\n",
        "  cnt = 0\n",
        "  for index, row in df.iterrows():\n",
        "    sup = []\n",
        "    for i in row['supporting_facts']:\n",
        "        sup.append(i[0])\n",
        "\n",
        "    for i in row['context']:\n",
        "\n",
        "      dic = {}\n",
        "      dic['id']= row['_id']\n",
        "      dic['question']= row['question']\n",
        "      dic['title']= i[0]\n",
        "    \n",
        "      dic['answer']= row['answer']\n",
        "      dic['type']=row['type']\n",
        "      dic['level']=row['level']\n",
        "\n",
        "      str = ''\n",
        "      for j in i[1]:\n",
        "        str = str+j\n",
        "\n",
        "      dic['context']=str\n",
        "\n",
        "      if i[0] in sup:\n",
        "        dic['label']= True\n",
        "      else:\n",
        "        dic['label']=False\n",
        "\n",
        "      row_list.append(dic)\n",
        "\n",
        "\n",
        "\n",
        "  xd = pd.DataFrame(row_list)  \n",
        "  \n",
        "  return xd"
      ],
      "execution_count": 6,
      "outputs": []
    },
    {
      "cell_type": "code",
      "metadata": {
        "colab": {
          "base_uri": "https://localhost:8080/"
        },
        "id": "0pp04Jyfkuae",
        "outputId": "c3060d42-4734-4727-ee25-af88e656806c"
      },
      "source": [
        "data = convert('/content/hotpot_train_v1.1.json')\n",
        "data.to_csv('hotpot_dev.csv') "
      ],
      "execution_count": 7,
      "outputs": [
        {
          "output_type": "stream",
          "text": [
            "<class 'pandas.core.frame.DataFrame'>\n"
          ],
          "name": "stdout"
        }
      ]
    },
    {
      "cell_type": "code",
      "metadata": {
        "colab": {
          "base_uri": "https://localhost:8080/"
        },
        "id": "eci8krZfsHYP",
        "outputId": "8e7bbb37-3978-4956-9a7e-708cbaf3c5f1"
      },
      "source": [
        "print(data.shape)"
      ],
      "execution_count": 8,
      "outputs": [
        {
          "output_type": "stream",
          "text": [
            "(899667, 8)\n"
          ],
          "name": "stdout"
        }
      ]
    },
    {
      "cell_type": "code",
      "metadata": {
        "colab": {
          "base_uri": "https://localhost:8080/"
        },
        "id": "j4JQaQO31_Mj",
        "outputId": "e59982e4-0d63-432f-a5aa-8eba098bced2"
      },
      "source": [
        "data = convert('/content/hotpot_dev_distractor_v1.json')\n",
        "data.to_csv('hotpot_train.csv') "
      ],
      "execution_count": null,
      "outputs": [
        {
          "output_type": "stream",
          "text": [
            "<class 'pandas.core.frame.DataFrame'>\n"
          ],
          "name": "stdout"
        }
      ]
    },
    {
      "cell_type": "code",
      "metadata": {
        "colab": {
          "base_uri": "https://localhost:8080/"
        },
        "id": "FdzSHwFJsdDx",
        "outputId": "4b80f119-886e-4e23-f94a-6a42cb12196d"
      },
      "source": [
        "print(data.shape)"
      ],
      "execution_count": null,
      "outputs": [
        {
          "output_type": "stream",
          "text": [
            "(9927, 8)\n"
          ],
          "name": "stdout"
        }
      ]
    }
  ]
}