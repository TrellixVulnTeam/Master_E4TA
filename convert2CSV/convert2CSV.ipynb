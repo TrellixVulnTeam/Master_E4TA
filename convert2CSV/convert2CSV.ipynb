{
  "nbformat": 4,
  "nbformat_minor": 0,
  "metadata": {
    "colab": {
      "name": "convert2CSV.ipynb",
      "provenance": []
    },
    "kernelspec": {
      "name": "python3",
      "display_name": "Python 3"
    }
  },
  "cells": [
    {
      "cell_type": "markdown",
      "metadata": {
        "id": "BLoBZZ3jtDRu"
      },
      "source": [
        "Download Official Dataset and convert to CSV. drive = ali97ebrahimi/hotpot_train&test_data"
      ]
    },
    {
      "cell_type": "code",
      "metadata": {
        "colab": {
          "base_uri": "https://localhost:8080/"
        },
        "id": "CTN-TfZ-hK_j",
        "outputId": "87c41a4d-2f9f-47ba-b3b0-d424675fed90"
      },
      "source": [
        "!wget http://curtis.ml.cmu.edu/datasets/hotpot/hotpot_train_v1.1.json"
      ],
      "execution_count": 2,
      "outputs": [
        {
          "output_type": "stream",
          "text": [
            "--2021-06-26 18:54:53--  http://curtis.ml.cmu.edu/datasets/hotpot/hotpot_train_v1.1.json\n",
            "Resolving curtis.ml.cmu.edu (curtis.ml.cmu.edu)... 128.2.204.193\n",
            "Connecting to curtis.ml.cmu.edu (curtis.ml.cmu.edu)|128.2.204.193|:80... connected.\n",
            "HTTP request sent, awaiting response... 200 OK\n",
            "Length: 566426227 (540M) [application/json]\n",
            "Saving to: ‘hotpot_train_v1.1.json’\n",
            "\n",
            "hotpot_train_v1.1.j 100%[===================>] 540.19M  4.94MB/s    in 98s     \n",
            "\n",
            "2021-06-26 18:56:31 (5.53 MB/s) - ‘hotpot_train_v1.1.json’ saved [566426227/566426227]\n",
            "\n"
          ],
          "name": "stdout"
        }
      ]
    },
    {
      "cell_type": "code",
      "metadata": {
        "colab": {
          "base_uri": "https://localhost:8080/"
        },
        "id": "EjiXiqAZrCYf",
        "outputId": "559529c6-1019-441f-d8e9-1342084d1ad6"
      },
      "source": [
        "from google.colab import drive\n",
        "drive.mount('/content/drive')"
      ],
      "execution_count": 1,
      "outputs": [
        {
          "output_type": "stream",
          "text": [
            "Mounted at /content/drive\n"
          ],
          "name": "stdout"
        }
      ]
    },
    {
      "cell_type": "code",
      "metadata": {
        "colab": {
          "base_uri": "https://localhost:8080/"
        },
        "id": "j66gkbEdiR7t",
        "outputId": "600c5d9a-6d3c-442e-afbf-0eca77ae097a"
      },
      "source": [
        "!wget http://curtis.ml.cmu.edu/datasets/hotpot/hotpot_dev_distractor_v1.json"
      ],
      "execution_count": 3,
      "outputs": [
        {
          "output_type": "stream",
          "text": [
            "--2021-06-26 18:56:31--  http://curtis.ml.cmu.edu/datasets/hotpot/hotpot_dev_distractor_v1.json\n",
            "Resolving curtis.ml.cmu.edu (curtis.ml.cmu.edu)... 128.2.204.193\n",
            "Connecting to curtis.ml.cmu.edu (curtis.ml.cmu.edu)|128.2.204.193|:80... connected.\n",
            "HTTP request sent, awaiting response... 200 OK\n",
            "Length: 46320117 (44M) [application/json]\n",
            "Saving to: ‘hotpot_dev_distractor_v1.json’\n",
            "\n",
            "hotpot_dev_distract 100%[===================>]  44.17M  17.8MB/s    in 2.5s    \n",
            "\n",
            "2021-06-26 18:56:34 (17.8 MB/s) - ‘hotpot_dev_distractor_v1.json’ saved [46320117/46320117]\n",
            "\n"
          ],
          "name": "stdout"
        }
      ]
    },
    {
      "cell_type": "code",
      "metadata": {
        "id": "1hkg967Akhhl"
      },
      "source": [
        "import pandas as pd\n"
      ],
      "execution_count": 7,
      "outputs": []
    },
    {
      "cell_type": "code",
      "metadata": {
        "id": "S25bo_lIq31r"
      },
      "source": [
        "new_data = pd.DataFrame(columns=['id','question','label','title','context','answer','type','level'])"
      ],
      "execution_count": 8,
      "outputs": []
    },
    {
      "cell_type": "code",
      "metadata": {
        "colab": {
          "base_uri": "https://localhost:8080/",
          "height": 49
        },
        "id": "40q6I7m8rrBa",
        "outputId": "9b692eec-8114-484d-8fd7-6af105c44154"
      },
      "source": [
        "new_data.head()"
      ],
      "execution_count": 9,
      "outputs": [
        {
          "output_type": "execute_result",
          "data": {
            "text/html": [
              "<div>\n",
              "<style scoped>\n",
              "    .dataframe tbody tr th:only-of-type {\n",
              "        vertical-align: middle;\n",
              "    }\n",
              "\n",
              "    .dataframe tbody tr th {\n",
              "        vertical-align: top;\n",
              "    }\n",
              "\n",
              "    .dataframe thead th {\n",
              "        text-align: right;\n",
              "    }\n",
              "</style>\n",
              "<table border=\"1\" class=\"dataframe\">\n",
              "  <thead>\n",
              "    <tr style=\"text-align: right;\">\n",
              "      <th></th>\n",
              "      <th>id</th>\n",
              "      <th>question</th>\n",
              "      <th>label</th>\n",
              "      <th>title</th>\n",
              "      <th>context</th>\n",
              "      <th>answer</th>\n",
              "      <th>type</th>\n",
              "      <th>level</th>\n",
              "    </tr>\n",
              "  </thead>\n",
              "  <tbody>\n",
              "  </tbody>\n",
              "</table>\n",
              "</div>"
            ],
            "text/plain": [
              "Empty DataFrame\n",
              "Columns: [id, question, label, title, context, answer, type, level]\n",
              "Index: []"
            ]
          },
          "metadata": {
            "tags": []
          },
          "execution_count": 9
        }
      ]
    },
    {
      "cell_type": "code",
      "metadata": {
        "id": "cq8JEFG9iYHe"
      },
      "source": [
        "def convert(input):\n",
        "  df = pd.read_json(input)\n",
        "\n",
        "  print(type(df))\n",
        "  row_list = []\n",
        "\n",
        "  for index, row in df.iterrows():\n",
        "    sup = []\n",
        "    for i in row['supporting_facts']:\n",
        "        sup.append(i[0])\n",
        "\n",
        "    for i in row['context']:\n",
        "\n",
        "      dic = {}\n",
        "      dic['id']= row['_id']\n",
        "      dic['question']= row['question']\n",
        "      dic['title']= i[0]\n",
        "    \n",
        "      dic['answer']= row['answer']\n",
        "      dic['type']=row['type']\n",
        "      dic['level']=row['level']\n",
        "\n",
        "      str = ''\n",
        "      for j in i[1]:\n",
        "        str = str+j\n",
        "\n",
        "      dic['context']=str\n",
        "\n",
        "      if i[0] in sup:\n",
        "        dic['label']= True\n",
        "      else:\n",
        "        dic['label']=False\n",
        "\n",
        "      row_list.append(dic)\n",
        "\n",
        "\n",
        "\n",
        "  xd = pd.DataFrame(row_list)  \n",
        "  \n",
        "  return xd"
      ],
      "execution_count": 10,
      "outputs": []
    },
    {
      "cell_type": "code",
      "metadata": {
        "colab": {
          "base_uri": "https://localhost:8080/"
        },
        "id": "0pp04Jyfkuae",
        "outputId": "922d56b7-5b04-4102-d25c-a289ad9281d0"
      },
      "source": [
        "data = convert('/content/hotpot_train_v1.1.json')\n",
        "data.to_csv('/content/drive/My Drive/hotpot_train&test_data/hotpot_train.csv') "
      ],
      "execution_count": 21,
      "outputs": [
        {
          "output_type": "stream",
          "text": [
            "<class 'pandas.core.frame.DataFrame'>\n"
          ],
          "name": "stdout"
        }
      ]
    },
    {
      "cell_type": "code",
      "metadata": {
        "colab": {
          "base_uri": "https://localhost:8080/"
        },
        "id": "eci8krZfsHYP",
        "outputId": "3bb52b5b-343a-41e0-bd28-591733474098"
      },
      "source": [
        "print(data.shape)"
      ],
      "execution_count": 22,
      "outputs": [
        {
          "output_type": "stream",
          "text": [
            "(899667, 8)\n"
          ],
          "name": "stdout"
        }
      ]
    },
    {
      "cell_type": "code",
      "metadata": {
        "colab": {
          "base_uri": "https://localhost:8080/"
        },
        "id": "j4JQaQO31_Mj",
        "outputId": "570fabf2-d0c5-4999-ca3c-fe6d7c45655d"
      },
      "source": [
        "data = convert('/content/hotpot_dev_distractor_v1.json')\n",
        "data.to_csv('/content/drive/My Drive/hotpot_train&test_data/hotpot_dev.csv') "
      ],
      "execution_count": 23,
      "outputs": [
        {
          "output_type": "stream",
          "text": [
            "<class 'pandas.core.frame.DataFrame'>\n"
          ],
          "name": "stdout"
        }
      ]
    },
    {
      "cell_type": "code",
      "metadata": {
        "colab": {
          "base_uri": "https://localhost:8080/"
        },
        "id": "FdzSHwFJsdDx",
        "outputId": "fcddb395-d3ab-4a1d-d58f-52318851157b"
      },
      "source": [
        "print(data.shape)"
      ],
      "execution_count": 24,
      "outputs": [
        {
          "output_type": "stream",
          "text": [
            "(73700, 8)\n"
          ],
          "name": "stdout"
        }
      ]
    }
  ]
}